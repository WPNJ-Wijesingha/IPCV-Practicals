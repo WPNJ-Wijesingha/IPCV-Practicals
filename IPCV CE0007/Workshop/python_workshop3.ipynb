{
 "cells": [
  {
   "cell_type": "code",
   "execution_count": 4,
   "id": "8e1c2616",
   "metadata": {},
   "outputs": [
    {
     "name": "stdout",
     "output_type": "stream",
     "text": [
      "Requirement already satisfied: numpy in c:\\users\\basuru yasaruwan\\contacts\\desktop\\ipcv practicals\\im04\\lib\\site-packages (1.26.4)\n",
      "Note: you may need to restart the kernel to use updated packages.\n"
     ]
    }
   ],
   "source": [
    "pip install numpy"
   ]
  },
  {
   "cell_type": "code",
   "execution_count": 5,
   "id": "2ba0e4de",
   "metadata": {},
   "outputs": [],
   "source": [
    "import numpy as np"
   ]
  },
  {
   "cell_type": "code",
   "execution_count": 6,
   "id": "c3a2d73a",
   "metadata": {},
   "outputs": [],
   "source": [
    "data = np.random.rand(2,3,4)\n",
    "# 2 - create 2 different arrays\n",
    "# 3 - row count \n",
    "# 4 - column count\n",
    "## use the differnt types of shapes"
   ]
  },
  {
   "cell_type": "code",
   "execution_count": 7,
   "id": "6cb74ce9",
   "metadata": {},
   "outputs": [
    {
     "data": {
      "text/plain": [
       "array([[[0.6652592 , 0.60672639, 0.68221594, 0.68720568],\n",
       "        [0.80101144, 0.97204256, 0.26483979, 0.33941989],\n",
       "        [0.05409215, 0.45521825, 0.59885871, 0.09428279]],\n",
       "\n",
       "       [[0.85437764, 0.09519269, 0.03358816, 0.94943687],\n",
       "        [0.9628424 , 0.08885538, 0.40747759, 0.63652205],\n",
       "        [0.65542421, 0.88879404, 0.42977494, 0.52611248]]])"
      ]
     },
     "execution_count": 7,
     "metadata": {},
     "output_type": "execute_result"
    }
   ],
   "source": [
    "data"
   ]
  },
  {
   "cell_type": "code",
   "execution_count": 8,
   "id": "5b32b6a4",
   "metadata": {},
   "outputs": [],
   "source": [
    "zeros = np.zeros((2,2,2)) #array fill only with the zeros\n",
    "ones = np.ones((2,2,2)) #array filled only with the ones"
   ]
  },
  {
   "cell_type": "code",
   "execution_count": 9,
   "id": "b7e40ce6",
   "metadata": {},
   "outputs": [
    {
     "data": {
      "text/plain": [
       "array([[[0., 0.],\n",
       "        [0., 0.]],\n",
       "\n",
       "       [[0., 0.],\n",
       "        [0., 0.]]])"
      ]
     },
     "execution_count": 9,
     "metadata": {},
     "output_type": "execute_result"
    }
   ],
   "source": [
    "zeros"
   ]
  },
  {
   "cell_type": "code",
   "execution_count": 10,
   "id": "6d4b34c5",
   "metadata": {},
   "outputs": [
    {
     "data": {
      "text/plain": [
       "array([[[1., 1.],\n",
       "        [1., 1.]],\n",
       "\n",
       "       [[1., 1.],\n",
       "        [1., 1.]]])"
      ]
     },
     "execution_count": 10,
     "metadata": {},
     "output_type": "execute_result"
    }
   ],
   "source": [
    "ones"
   ]
  },
  {
   "cell_type": "code",
   "execution_count": 11,
   "id": "50476fed",
   "metadata": {},
   "outputs": [],
   "source": [
    "full = np.full ((2,2,2),7) #create the array "
   ]
  },
  {
   "cell_type": "code",
   "execution_count": 12,
   "id": "0f81de11",
   "metadata": {},
   "outputs": [
    {
     "data": {
      "text/plain": [
       "array([[[7, 7],\n",
       "        [7, 7]],\n",
       "\n",
       "       [[7, 7],\n",
       "        [7, 7]]])"
      ]
     },
     "execution_count": 12,
     "metadata": {},
     "output_type": "execute_result"
    }
   ],
   "source": [
    "full"
   ]
  },
  {
   "cell_type": "code",
   "execution_count": null,
   "id": "5f96529f",
   "metadata": {},
   "outputs": [],
   "source": []
  },
  {
   "cell_type": "code",
   "execution_count": 13,
   "id": "2de76731",
   "metadata": {},
   "outputs": [],
   "source": [
    "arr=np.array([[1,2,3],[4,5,6]])"
   ]
  },
  {
   "cell_type": "code",
   "execution_count": 14,
   "id": "b1562e93",
   "metadata": {},
   "outputs": [
    {
     "data": {
      "text/plain": [
       "array([[1, 2, 3],\n",
       "       [4, 5, 6]])"
      ]
     },
     "execution_count": 14,
     "metadata": {},
     "output_type": "execute_result"
    }
   ],
   "source": [
    "arr"
   ]
  },
  {
   "cell_type": "code",
   "execution_count": 16,
   "id": "53539822",
   "metadata": {},
   "outputs": [],
   "source": [
    "shape = data.shape\n",
    "size = data.size\n",
    "types = data.dtype"
   ]
  },
  {
   "cell_type": "code",
   "execution_count": 17,
   "id": "3a16998f",
   "metadata": {},
   "outputs": [
    {
     "data": {
      "text/plain": [
       "(2, 3, 4)"
      ]
     },
     "execution_count": 17,
     "metadata": {},
     "output_type": "execute_result"
    }
   ],
   "source": [
    "shape"
   ]
  },
  {
   "cell_type": "code",
   "execution_count": 18,
   "id": "1ee38c74",
   "metadata": {},
   "outputs": [
    {
     "data": {
      "text/plain": [
       "24"
      ]
     },
     "execution_count": 18,
     "metadata": {},
     "output_type": "execute_result"
    }
   ],
   "source": [
    "size"
   ]
  },
  {
   "cell_type": "code",
   "execution_count": 19,
   "id": "6846d063",
   "metadata": {},
   "outputs": [
    {
     "data": {
      "text/plain": [
       "dtype('float64')"
      ]
     },
     "execution_count": 19,
     "metadata": {},
     "output_type": "execute_result"
    }
   ],
   "source": [
    "types"
   ]
  },
  {
   "cell_type": "code",
   "execution_count": 20,
   "id": "73f9be09",
   "metadata": {},
   "outputs": [
    {
     "data": {
      "text/plain": [
       "array([[[0.6652592 , 0.60672639, 0.68221594, 0.68720568],\n",
       "        [0.80101144, 0.97204256, 0.26483979, 0.33941989],\n",
       "        [0.05409215, 0.45521825, 0.59885871, 0.09428279]],\n",
       "\n",
       "       [[0.85437764, 0.09519269, 0.03358816, 0.94943687],\n",
       "        [0.9628424 , 0.08885538, 0.40747759, 0.63652205],\n",
       "        [0.65542421, 0.88879404, 0.42977494, 0.52611248]]])"
      ]
     },
     "execution_count": 20,
     "metadata": {},
     "output_type": "execute_result"
    }
   ],
   "source": [
    "data"
   ]
  },
  {
   "cell_type": "code",
   "execution_count": 21,
   "id": "5ca82ae3",
   "metadata": {},
   "outputs": [],
   "source": [
    "arr = data[0] #access only the first array"
   ]
  },
  {
   "cell_type": "code",
   "execution_count": 22,
   "id": "97254af3",
   "metadata": {},
   "outputs": [
    {
     "data": {
      "text/plain": [
       "array([[0.6652592 , 0.60672639, 0.68221594, 0.68720568],\n",
       "       [0.80101144, 0.97204256, 0.26483979, 0.33941989],\n",
       "       [0.05409215, 0.45521825, 0.59885871, 0.09428279]])"
      ]
     },
     "execution_count": 22,
     "metadata": {},
     "output_type": "execute_result"
    }
   ],
   "source": [
    "arr"
   ]
  },
  {
   "cell_type": "code",
   "execution_count": 24,
   "id": "81557026",
   "metadata": {},
   "outputs": [
    {
     "data": {
      "text/plain": [
       "array([[0.85437764, 0.09519269, 0.03358816, 0.94943687],\n",
       "       [0.9628424 , 0.08885538, 0.40747759, 0.63652205],\n",
       "       [0.65542421, 0.88879404, 0.42977494, 0.52611248]])"
      ]
     },
     "execution_count": 24,
     "metadata": {},
     "output_type": "execute_result"
    }
   ],
   "source": [
    "arr = data[1] #access only the second array\n",
    "arr"
   ]
  },
  {
   "cell_type": "code",
   "execution_count": 25,
   "id": "cc8b4d90",
   "metadata": {},
   "outputs": [
    {
     "data": {
      "text/plain": [
       "array([0.6652592 , 0.60672639, 0.68221594, 0.68720568])"
      ]
     },
     "execution_count": 25,
     "metadata": {},
     "output_type": "execute_result"
    }
   ],
   "source": [
    "arr = data [0][0] #oth array 0th row\n",
    "arr"
   ]
  },
  {
   "cell_type": "code",
   "execution_count": 26,
   "id": "0c97aed8",
   "metadata": {},
   "outputs": [
    {
     "data": {
      "text/plain": [
       "array([0.6652592 , 0.60672639, 0.68221594])"
      ]
     },
     "execution_count": 26,
     "metadata": {},
     "output_type": "execute_result"
    }
   ],
   "source": [
    "arr = data [0][0][0:3] #oth array 0th row first 3 coloum\n",
    "arr"
   ]
  },
  {
   "cell_type": "code",
   "execution_count": 33,
   "id": "e3daee7d",
   "metadata": {},
   "outputs": [
    {
     "data": {
      "text/plain": [
       "array([[0.6652592 , 0.60672639, 0.68221594, 0.68720568],\n",
       "       [0.80101144, 0.97204256, 0.26483979, 0.33941989]])"
      ]
     },
     "execution_count": 33,
     "metadata": {},
     "output_type": "execute_result"
    }
   ],
   "source": [
    "arr=data[0][0:2]# 0th array, 0-2 range in the rows, all columns as no restrictions provided\n",
    "arr"
   ]
  },
  {
   "cell_type": "code",
   "execution_count": 29,
   "id": "b0066e9d",
   "metadata": {},
   "outputs": [],
   "source": [
    "list1 = np.random.rand(10)\n",
    "list2 = np.random.rand(10)"
   ]
  },
  {
   "cell_type": "code",
   "execution_count": 30,
   "id": "6f651356",
   "metadata": {},
   "outputs": [
    {
     "data": {
      "text/plain": [
       "array([0.38242877, 0.71863503, 0.48121974, 0.35707597, 0.40662494,\n",
       "       0.85652521, 0.06018076, 0.27547371, 0.16842763, 0.34608315])"
      ]
     },
     "execution_count": 30,
     "metadata": {},
     "output_type": "execute_result"
    }
   ],
   "source": [
    "list1"
   ]
  },
  {
   "cell_type": "code",
   "execution_count": 31,
   "id": "51631f43",
   "metadata": {},
   "outputs": [
    {
     "data": {
      "text/plain": [
       "array([0.08988482, 0.4055989 , 0.305804  , 0.27145996, 0.74383041,\n",
       "       0.98481876, 0.10665116, 0.17806938, 0.51979298, 0.450684  ])"
      ]
     },
     "execution_count": 31,
     "metadata": {},
     "output_type": "execute_result"
    }
   ],
   "source": [
    "list2"
   ]
  },
  {
   "cell_type": "code",
   "execution_count": 34,
   "id": "3091ee51",
   "metadata": {},
   "outputs": [],
   "source": [
    "add=np.add(list1,list2)"
   ]
  },
  {
   "cell_type": "code",
   "execution_count": 35,
   "id": "74d84961",
   "metadata": {},
   "outputs": [
    {
     "data": {
      "text/plain": [
       "array([0.47231359, 1.12423393, 0.78702374, 0.62853592, 1.15045535,\n",
       "       1.84134398, 0.16683192, 0.45354308, 0.68822062, 0.79676715])"
      ]
     },
     "execution_count": 35,
     "metadata": {},
     "output_type": "execute_result"
    }
   ],
   "source": [
    "add"
   ]
  },
  {
   "cell_type": "code",
   "execution_count": 36,
   "id": "85a9b6a1",
   "metadata": {},
   "outputs": [],
   "source": [
    "subtract=np.subtract(list1,list2)"
   ]
  },
  {
   "cell_type": "code",
   "execution_count": 37,
   "id": "ee7319dd",
   "metadata": {},
   "outputs": [
    {
     "data": {
      "text/plain": [
       "array([ 0.29254395,  0.31303613,  0.17541574,  0.08561601, -0.33720547,\n",
       "       -0.12829355, -0.0464704 ,  0.09740433, -0.35136535, -0.10460086])"
      ]
     },
     "execution_count": 37,
     "metadata": {},
     "output_type": "execute_result"
    }
   ],
   "source": [
    "subtract"
   ]
  },
  {
   "cell_type": "code",
   "execution_count": 38,
   "id": "7b0050a7",
   "metadata": {},
   "outputs": [],
   "source": [
    "multiply=np.multiply(list1,list2)"
   ]
  },
  {
   "cell_type": "code",
   "execution_count": 39,
   "id": "e862f783",
   "metadata": {},
   "outputs": [
    {
     "data": {
      "text/plain": [
       "array([0.03437454, 0.29147758, 0.14715892, 0.09693183, 0.30246   ,\n",
       "       0.8435221 , 0.00641835, 0.04905343, 0.0875475 , 0.15597414])"
      ]
     },
     "execution_count": 39,
     "metadata": {},
     "output_type": "execute_result"
    }
   ],
   "source": [
    "multiply"
   ]
  },
  {
   "cell_type": "code",
   "execution_count": 40,
   "id": "67c8832c",
   "metadata": {},
   "outputs": [],
   "source": [
    "divide=np.divide(list1,list2)"
   ]
  },
  {
   "cell_type": "code",
   "execution_count": 41,
   "id": "f901aa06",
   "metadata": {},
   "outputs": [
    {
     "data": {
      "text/plain": [
       "array([4.25465365, 1.77178743, 1.57362146, 1.31539094, 0.54666351,\n",
       "       0.86972877, 0.56427664, 1.54700213, 0.32402829, 0.76790644])"
      ]
     },
     "execution_count": 41,
     "metadata": {},
     "output_type": "execute_result"
    }
   ],
   "source": [
    "divide"
   ]
  },
  {
   "cell_type": "code",
   "execution_count": 42,
   "id": "3a6ef1f8",
   "metadata": {},
   "outputs": [],
   "source": [
    "dot=np.dot(list1,list2) # multiply all values in the arrays at a strectch and derive one value. Important for distance calculations"
   ]
  },
  {
   "cell_type": "code",
   "execution_count": 43,
   "id": "e90961c7",
   "metadata": {},
   "outputs": [
    {
     "data": {
      "text/plain": [
       "2.0149183795047616"
      ]
     },
     "execution_count": 43,
     "metadata": {},
     "output_type": "execute_result"
    }
   ],
   "source": [
    "dot"
   ]
  },
  {
   "cell_type": "code",
   "execution_count": 44,
   "id": "ae0010bc",
   "metadata": {},
   "outputs": [],
   "source": [
    "minV=np.min(list2)"
   ]
  },
  {
   "cell_type": "code",
   "execution_count": 45,
   "id": "b2370123",
   "metadata": {},
   "outputs": [
    {
     "data": {
      "text/plain": [
       "0.08988481843571994"
      ]
     },
     "execution_count": 45,
     "metadata": {},
     "output_type": "execute_result"
    }
   ],
   "source": [
    "minV"
   ]
  },
  {
   "cell_type": "code",
   "execution_count": 46,
   "id": "63434834",
   "metadata": {},
   "outputs": [],
   "source": [
    "maxV=np.max(list2)"
   ]
  },
  {
   "cell_type": "code",
   "execution_count": 47,
   "id": "badd0176",
   "metadata": {},
   "outputs": [
    {
     "data": {
      "text/plain": [
       "0.9848187641065944"
      ]
     },
     "execution_count": 47,
     "metadata": {},
     "output_type": "execute_result"
    }
   ],
   "source": [
    "maxV"
   ]
  },
  {
   "cell_type": "code",
   "execution_count": 48,
   "id": "9bfb610b",
   "metadata": {},
   "outputs": [
    {
     "name": "stdout",
     "output_type": "stream",
     "text": [
      "5.0\n"
     ]
    }
   ],
   "source": [
    "sqrt=np.sqrt(25)\n",
    "print(sqrt)"
   ]
  },
  {
   "cell_type": "code",
   "execution_count": 49,
   "id": "d35fe929",
   "metadata": {},
   "outputs": [
    {
     "data": {
      "text/plain": [
       "128"
      ]
     },
     "execution_count": 49,
     "metadata": {},
     "output_type": "execute_result"
    }
   ],
   "source": [
    "power=np.power(2,7)\n",
    "power"
   ]
  },
  {
   "cell_type": "code",
   "execution_count": 50,
   "id": "4d7db246",
   "metadata": {},
   "outputs": [
    {
     "data": {
      "text/plain": [
       "2"
      ]
     },
     "execution_count": 50,
     "metadata": {},
     "output_type": "execute_result"
    }
   ],
   "source": [
    "absol=np.abs(-2)\n",
    "absol"
   ]
  },
  {
   "cell_type": "code",
   "execution_count": 51,
   "id": "c523bff9",
   "metadata": {},
   "outputs": [
    {
     "data": {
      "text/plain": [
       "1.6094379124341003"
      ]
     },
     "execution_count": 51,
     "metadata": {},
     "output_type": "execute_result"
    }
   ],
   "source": [
    "lg=np.log(5)\n",
    "lg"
   ]
  },
  {
   "cell_type": "code",
   "execution_count": 52,
   "id": "d538116d",
   "metadata": {},
   "outputs": [],
   "source": [
    "data[0][0][0]=700"
   ]
  },
  {
   "cell_type": "code",
   "execution_count": 53,
   "id": "75ad80f9",
   "metadata": {},
   "outputs": [
    {
     "data": {
      "text/plain": [
       "array([[[7.00000000e+02, 6.06726386e-01, 6.82215941e-01, 6.87205676e-01],\n",
       "        [8.01011440e-01, 9.72042556e-01, 2.64839793e-01, 3.39419886e-01],\n",
       "        [5.40921537e-02, 4.55218248e-01, 5.98858709e-01, 9.42827883e-02]],\n",
       "\n",
       "       [[8.54377636e-01, 9.51926887e-02, 3.35881566e-02, 9.49436866e-01],\n",
       "        [9.62842404e-01, 8.88553788e-02, 4.07477592e-01, 6.36522049e-01],\n",
       "        [6.55424207e-01, 8.88794045e-01, 4.29774942e-01, 5.26112477e-01]]])"
      ]
     },
     "execution_count": 53,
     "metadata": {},
     "output_type": "execute_result"
    }
   ],
   "source": [
    "data"
   ]
  },
  {
   "cell_type": "code",
   "execution_count": null,
   "id": "4f7058a0",
   "metadata": {},
   "outputs": [],
   "source": []
  }
 ],
 "metadata": {
  "kernelspec": {
   "display_name": "IM04",
   "language": "python",
   "name": "im04"
  },
  "language_info": {
   "codemirror_mode": {
    "name": "ipython",
    "version": 3
   },
   "file_extension": ".py",
   "mimetype": "text/x-python",
   "name": "python",
   "nbconvert_exporter": "python",
   "pygments_lexer": "ipython3",
   "version": "3.11.9"
  }
 },
 "nbformat": 4,
 "nbformat_minor": 5
}

{
 "cells": [
  {
   "cell_type": "code",
   "execution_count": 1,
   "id": "9bfbf72f",
   "metadata": {},
   "outputs": [
    {
     "name": "stdout",
     "output_type": "stream",
     "text": [
      "Basuru Yasaruwan\n"
     ]
    }
   ],
   "source": [
    "space_name = \"Basuru Yasaruwan\"\n",
    "print(space_name)"
   ]
  },
  {
   "cell_type": "code",
   "execution_count": 2,
   "id": "deed4d13",
   "metadata": {},
   "outputs": [
    {
     "data": {
      "text/plain": [
       "str"
      ]
     },
     "execution_count": 2,
     "metadata": {},
     "output_type": "execute_result"
    }
   ],
   "source": [
    "type(space_name)"
   ]
  },
  {
   "cell_type": "code",
   "execution_count": 3,
   "id": "5e0adbeb",
   "metadata": {},
   "outputs": [
    {
     "name": "stdout",
     "output_type": "stream",
     "text": [
      "123\n"
     ]
    }
   ],
   "source": [
    "space_name = 123\n",
    "print(space_name)"
   ]
  },
  {
   "cell_type": "code",
   "execution_count": 4,
   "id": "39a7a08d",
   "metadata": {},
   "outputs": [
    {
     "data": {
      "text/plain": [
       "int"
      ]
     },
     "execution_count": 4,
     "metadata": {},
     "output_type": "execute_result"
    }
   ],
   "source": [
    "type(space_name)"
   ]
  },
  {
   "cell_type": "code",
   "execution_count": 5,
   "id": "8a12f739",
   "metadata": {},
   "outputs": [
    {
     "name": "stdout",
     "output_type": "stream",
     "text": [
      "False\n"
     ]
    }
   ],
   "source": [
    "space_name = False\n",
    "print(space_name)"
   ]
  },
  {
   "cell_type": "code",
   "execution_count": 6,
   "id": "76e69ddc",
   "metadata": {},
   "outputs": [
    {
     "data": {
      "text/plain": [
       "bool"
      ]
     },
     "execution_count": 6,
     "metadata": {},
     "output_type": "execute_result"
    }
   ],
   "source": [
    "type(space_name)"
   ]
  },
  {
   "cell_type": "code",
   "execution_count": 7,
   "id": "9bcf08bb",
   "metadata": {},
   "outputs": [
    {
     "name": "stdout",
     "output_type": "stream",
     "text": [
      "[1, 2, 3, 4, 45, 456, 45567, 'hi', 'hello']\n"
     ]
    }
   ],
   "source": [
    "space_name = [1,2,3,4,45,456,45567,\"hi\",\"hello\"]\n",
    "print(space_name)"
   ]
  },
  {
   "cell_type": "code",
   "execution_count": 8,
   "id": "2a2337fe",
   "metadata": {},
   "outputs": [
    {
     "data": {
      "text/plain": [
       "list"
      ]
     },
     "execution_count": 8,
     "metadata": {},
     "output_type": "execute_result"
    }
   ],
   "source": [
    "type(space_name)"
   ]
  },
  {
   "cell_type": "code",
   "execution_count": 10,
   "id": "4e9b9747",
   "metadata": {},
   "outputs": [
    {
     "data": {
      "text/plain": [
       "3"
      ]
     },
     "execution_count": 10,
     "metadata": {},
     "output_type": "execute_result"
    }
   ],
   "source": [
    "space_name[2]"
   ]
  },
  {
   "cell_type": "code",
   "execution_count": 11,
   "id": "1ed65ff0",
   "metadata": {},
   "outputs": [
    {
     "data": {
      "text/plain": [
       "'hi'"
      ]
     },
     "execution_count": 11,
     "metadata": {},
     "output_type": "execute_result"
    }
   ],
   "source": [
    "space_name[-2] #works right -----> left"
   ]
  },
  {
   "cell_type": "code",
   "execution_count": 12,
   "id": "9b95b819",
   "metadata": {},
   "outputs": [
    {
     "data": {
      "text/plain": [
       "[1, 2, 3, 4, 45, 456, 45567, 'hi', 'hello', 'Basuru Yasaruwan']"
      ]
     },
     "execution_count": 12,
     "metadata": {},
     "output_type": "execute_result"
    }
   ],
   "source": [
    "space_name.append(\"Basuru Yasaruwan\")\n",
    "space_name"
   ]
  },
  {
   "cell_type": "code",
   "execution_count": 13,
   "id": "3421da16",
   "metadata": {},
   "outputs": [
    {
     "data": {
      "text/plain": [
       "[1, 2, 545434342, 4, 45, 456, 45567, 'hi', 'hello', 'Basuru Yasaruwan']"
      ]
     },
     "execution_count": 13,
     "metadata": {},
     "output_type": "execute_result"
    }
   ],
   "source": [
    "space_name[2] = 545434342\n",
    "space_name"
   ]
  },
  {
   "cell_type": "code",
   "execution_count": 14,
   "id": "f8a38129",
   "metadata": {},
   "outputs": [
    {
     "data": {
      "text/plain": [
       "[1,\n",
       " 2,\n",
       " 545434342,\n",
       " 4,\n",
       " 'Basuru',\n",
       " 45,\n",
       " 456,\n",
       " 45567,\n",
       " 'hi',\n",
       " 'hello',\n",
       " 'Basuru Yasaruwan']"
      ]
     },
     "execution_count": 14,
     "metadata": {},
     "output_type": "execute_result"
    }
   ],
   "source": [
    "space_name.insert(4,\"Basuru\")\n",
    "space_name"
   ]
  },
  {
   "cell_type": "code",
   "execution_count": 16,
   "id": "df736f3f",
   "metadata": {},
   "outputs": [
    {
     "data": {
      "text/plain": [
       "[1, 2, 545434342, 4, 45, 456, 45567, 'hi', 'hello', 'Basuru Yasaruwan']"
      ]
     },
     "execution_count": 16,
     "metadata": {},
     "output_type": "execute_result"
    }
   ],
   "source": [
    "del space_name[4]\n",
    "space_name"
   ]
  },
  {
   "cell_type": "code",
   "execution_count": 17,
   "id": "d69cd47b",
   "metadata": {},
   "outputs": [
    {
     "data": {
      "text/plain": [
       "(1, 2, 3, 45, 56, 654, 'hi', 'basuru')"
      ]
     },
     "execution_count": 17,
     "metadata": {},
     "output_type": "execute_result"
    }
   ],
   "source": [
    "space_tuple = (1,2,3,45,56,654,\"hi\",\"basuru\")\n",
    "space_tuple"
   ]
  },
  {
   "cell_type": "code",
   "execution_count": 18,
   "id": "da119650",
   "metadata": {},
   "outputs": [
    {
     "data": {
      "text/plain": [
       "tuple"
      ]
     },
     "execution_count": 18,
     "metadata": {},
     "output_type": "execute_result"
    }
   ],
   "source": [
    "type(space_tuple)"
   ]
  },
  {
   "cell_type": "code",
   "execution_count": 19,
   "id": "98e86fd9",
   "metadata": {},
   "outputs": [
    {
     "data": {
      "text/plain": [
       "654"
      ]
     },
     "execution_count": 19,
     "metadata": {},
     "output_type": "execute_result"
    }
   ],
   "source": [
    "space_tuple[5]"
   ]
  },
  {
   "cell_type": "code",
   "execution_count": 20,
   "id": "71ffe3b7",
   "metadata": {},
   "outputs": [
    {
     "data": {
      "text/plain": [
       "(1, 2, 3, 4, 4, 4, 4, 4, 345, 'hi', 'basuru')"
      ]
     },
     "execution_count": 20,
     "metadata": {},
     "output_type": "execute_result"
    }
   ],
   "source": [
    "space_set = (1,2,3,4,4,4,4,4,345,\"hi\",\"basuru\")\n",
    "space_set"
   ]
  },
  {
   "cell_type": "code",
   "execution_count": 21,
   "id": "92e455df",
   "metadata": {},
   "outputs": [
    {
     "data": {
      "text/plain": [
       "{1, 2, 3, 345, 4, 'basuru', 'hi'}"
      ]
     },
     "execution_count": 21,
     "metadata": {},
     "output_type": "execute_result"
    }
   ],
   "source": [
    "set(space_set)"
   ]
  },
  {
   "cell_type": "code",
   "execution_count": 22,
   "id": "123b0fd2",
   "metadata": {},
   "outputs": [
    {
     "data": {
      "text/plain": [
       "list"
      ]
     },
     "execution_count": 22,
     "metadata": {},
     "output_type": "execute_result"
    }
   ],
   "source": [
    "type(list(set(space_set)))"
   ]
  },
  {
   "cell_type": "code",
   "execution_count": 25,
   "id": "5e9fd0b2",
   "metadata": {},
   "outputs": [],
   "source": [
    "space_dictionary = {\"name\": \"basuru\"}\n",
    "value_of_name = space_dictionary['name']"
   ]
  },
  {
   "cell_type": "code",
   "execution_count": 26,
   "id": "ac22dae9",
   "metadata": {},
   "outputs": [
    {
     "name": "stdout",
     "output_type": "stream",
     "text": [
      "basuru\n"
     ]
    }
   ],
   "source": [
    "print(value_of_name)"
   ]
  },
  {
   "cell_type": "code",
   "execution_count": null,
   "id": "f5c5c672",
   "metadata": {},
   "outputs": [],
   "source": [
    "names = [\"kasun\",\"Saman\",\"Silva\"]"
   ]
  }
 ],
 "metadata": {
  "kernelspec": {
   "display_name": "IM02",
   "language": "python",
   "name": "im02"
  },
  "language_info": {
   "codemirror_mode": {
    "name": "ipython",
    "version": 3
   },
   "file_extension": ".py",
   "mimetype": "text/x-python",
   "name": "python",
   "nbconvert_exporter": "python",
   "pygments_lexer": "ipython3",
   "version": "3.11.9"
  }
 },
 "nbformat": 4,
 "nbformat_minor": 5
}

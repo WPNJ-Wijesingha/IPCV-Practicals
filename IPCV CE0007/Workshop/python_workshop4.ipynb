{
 "cells": [
  {
   "cell_type": "code",
   "execution_count": 5,
   "id": "81d58233",
   "metadata": {},
   "outputs": [
    {
     "name": "stdout",
     "output_type": "stream",
     "text": [
      "Collecting requests\n",
      "  Downloading requests-2.31.0-py3-none-any.whl.metadata (4.6 kB)\n",
      "Collecting charset-normalizer<4,>=2 (from requests)\n",
      "  Downloading charset_normalizer-3.3.2-cp311-cp311-win_amd64.whl.metadata (34 kB)\n",
      "Collecting idna<4,>=2.5 (from requests)\n",
      "  Downloading idna-3.6-py3-none-any.whl.metadata (9.9 kB)\n",
      "Collecting urllib3<3,>=1.21.1 (from requests)\n",
      "  Downloading urllib3-2.2.0-py3-none-any.whl.metadata (6.4 kB)\n",
      "Collecting certifi>=2017.4.17 (from requests)\n",
      "  Downloading certifi-2024.2.2-py3-none-any.whl.metadata (2.2 kB)\n",
      "Downloading requests-2.31.0-py3-none-any.whl (62 kB)\n",
      "   ---------------------------------------- 0.0/62.6 kB ? eta -:--:--\n",
      "   -------------------------- ------------- 41.0/62.6 kB 991.0 kB/s eta 0:00:01\n",
      "   ---------------------------------------- 62.6/62.6 kB 830.7 kB/s eta 0:00:00\n",
      "Downloading certifi-2024.2.2-py3-none-any.whl (163 kB)\n",
      "   ---------------------------------------- 0.0/163.8 kB ? eta -:--:--\n",
      "   -------------------- ------------------- 81.9/163.8 kB 1.5 MB/s eta 0:00:01\n",
      "   --------------------------- ------------ 112.6/163.8 kB 1.6 MB/s eta 0:00:01\n",
      "   --------------------------- ------------ 112.6/163.8 kB 1.6 MB/s eta 0:00:01\n",
      "   -------------------------------------- 163.8/163.8 kB 816.7 kB/s eta 0:00:00\n",
      "Downloading charset_normalizer-3.3.2-cp311-cp311-win_amd64.whl (99 kB)\n",
      "   ---------------------------------------- 0.0/99.9 kB ? eta -:--:--\n",
      "   ------------------------------------ --- 92.2/99.9 kB 2.6 MB/s eta 0:00:01\n",
      "   ---------------------------------------- 99.9/99.9 kB 2.9 MB/s eta 0:00:00\n",
      "Downloading idna-3.6-py3-none-any.whl (61 kB)\n",
      "   ---------------------------------------- 0.0/61.6 kB ? eta -:--:--\n",
      "   ---------------------------------------- 61.6/61.6 kB 1.7 MB/s eta 0:00:00\n",
      "Downloading urllib3-2.2.0-py3-none-any.whl (120 kB)\n",
      "   ---------------------------------------- 0.0/120.9 kB ? eta -:--:--\n",
      "   ---------------------------------------- 120.9/120.9 kB 3.6 MB/s eta 0:00:00\n",
      "Installing collected packages: urllib3, idna, charset-normalizer, certifi, requests\n",
      "Successfully installed certifi-2024.2.2 charset-normalizer-3.3.2 idna-3.6 requests-2.31.0 urllib3-2.2.0\n",
      "Note: you may need to restart the kernel to use updated packages.\n"
     ]
    }
   ],
   "source": [
    "pip install requests"
   ]
  },
  {
   "cell_type": "code",
   "execution_count": 9,
   "id": "c667d8a9",
   "metadata": {},
   "outputs": [
    {
     "name": "stdout",
     "output_type": "stream",
     "text": [
      "Package            Version\n",
      "------------------ --------\n",
      "asttokens          2.4.1\n",
      "certifi            2024.2.2\n",
      "charset-normalizer 3.3.2\n",
      "colorama           0.4.6\n",
      "comm               0.2.1\n",
      "debugpy            1.8.1\n",
      "decorator          5.1.1\n",
      "executing          2.0.1\n",
      "idna               3.6\n",
      "ipykernel          6.29.2\n",
      "ipython            8.21.0\n",
      "jedi               0.19.1\n",
      "jupyter_client     8.6.0\n",
      "jupyter_core       5.7.1\n",
      "matplotlib-inline  0.1.6\n",
      "nest-asyncio       1.6.0\n",
      "packaging          23.2\n",
      "parso              0.8.3\n",
      "pip                24.0\n",
      "platformdirs       4.2.0\n",
      "prompt-toolkit     3.0.43\n",
      "psutil             5.9.8\n",
      "pure-eval          0.2.2\n",
      "Pygments           2.17.2\n",
      "python-dateutil    2.8.2\n",
      "pywin32            306\n",
      "pyzmq              25.1.2\n",
      "requests           2.31.0\n",
      "setuptools         65.5.0\n",
      "six                1.16.0\n",
      "stack-data         0.6.3\n",
      "tornado            6.4\n",
      "traitlets          5.14.1\n",
      "urllib3            2.2.0\n",
      "wcwidth            0.2.13\n",
      "Note: you may need to restart the kernel to use updated packages.\n"
     ]
    }
   ],
   "source": [
    "pip list"
   ]
  },
  {
   "cell_type": "code",
   "execution_count": 31,
   "id": "0d93fe8a",
   "metadata": {},
   "outputs": [],
   "source": [
    "import requests\n",
    "joke_url=\"https://icanhazdadjoke.com\""
   ]
  },
  {
   "cell_type": "code",
   "execution_count": 32,
   "id": "5a3df733",
   "metadata": {},
   "outputs": [],
   "source": [
    "my_header={'Accept':'application/json'} # header contains meta data instructions, when making the request to the api"
   ]
  },
  {
   "cell_type": "code",
   "execution_count": 33,
   "id": "5f350cd4",
   "metadata": {},
   "outputs": [],
   "source": [
    "results=requests.get(joke_url,headers=my_header)"
   ]
  },
  {
   "cell_type": "code",
   "execution_count": 34,
   "id": "b839f3c5",
   "metadata": {},
   "outputs": [
    {
     "data": {
      "text/plain": [
       "<Response [200]>"
      ]
     },
     "execution_count": 34,
     "metadata": {},
     "output_type": "execute_result"
    }
   ],
   "source": [
    "results # response 200 means, api call is success"
   ]
  },
  {
   "cell_type": "code",
   "execution_count": 35,
   "id": "fecf80ce",
   "metadata": {},
   "outputs": [],
   "source": [
    "val=results.json()"
   ]
  },
  {
   "cell_type": "code",
   "execution_count": 36,
   "id": "9f3a5fae",
   "metadata": {},
   "outputs": [
    {
     "data": {
      "text/plain": [
       "dict"
      ]
     },
     "execution_count": 36,
     "metadata": {},
     "output_type": "execute_result"
    }
   ],
   "source": [
    "type(val) # returned value is a dictionery. Hence, can apply retrival techniques associated to dictioneries"
   ]
  },
  {
   "cell_type": "code",
   "execution_count": 37,
   "id": "4b14c890",
   "metadata": {},
   "outputs": [
    {
     "data": {
      "text/plain": [
       "'\"Dad, I\\'m cold.\"\\r\\n\"Go stand in the corner, I hear it\\'s 90 degrees.\"'"
      ]
     },
     "execution_count": 37,
     "metadata": {},
     "output_type": "execute_result"
    }
   ],
   "source": [
    "val['joke']"
   ]
  },
  {
   "cell_type": "code",
   "execution_count": 23,
   "id": "ab7a42be",
   "metadata": {},
   "outputs": [],
   "source": [
    "with open('myself.txt','w') as f:\n",
    "    f.write(\"Kaneeka Vidanage\")"
   ]
  },
  {
   "cell_type": "code",
   "execution_count": 18,
   "id": "1e98f6ce",
   "metadata": {},
   "outputs": [],
   "source": [
    "with open('myself.txt','r') as f:\n",
    "    file=f.read()"
   ]
  },
  {
   "cell_type": "code",
   "execution_count": 19,
   "id": "b9d3f6fa",
   "metadata": {},
   "outputs": [
    {
     "data": {
      "text/plain": [
       "'Kaneeka Vidanage'"
      ]
     },
     "execution_count": 19,
     "metadata": {},
     "output_type": "execute_result"
    }
   ],
   "source": [
    "file"
   ]
  },
  {
   "cell_type": "code",
   "execution_count": 20,
   "id": "29eb7c4b",
   "metadata": {},
   "outputs": [],
   "source": [
    "new_set={1,2,3,4,5}"
   ]
  },
  {
   "cell_type": "code",
   "execution_count": 21,
   "id": "6fab1cf8",
   "metadata": {},
   "outputs": [
    {
     "name": "stdout",
     "output_type": "stream",
     "text": [
      "Something went wrong guys\n"
     ]
    }
   ],
   "source": [
    "try:\n",
    "     new_set[2]=12\n",
    "except Exception as e:\n",
    "    #print(e)\n",
    "    print(\"Something went wrong guys\")"
   ]
  },
  {
   "cell_type": "code",
   "execution_count": null,
   "id": "9a34dbbc",
   "metadata": {},
   "outputs": [],
   "source": []
  }
 ],
 "metadata": {
  "kernelspec": {
   "display_name": "IM03",
   "language": "python",
   "name": "im03"
  },
  "language_info": {
   "codemirror_mode": {
    "name": "ipython",
    "version": 3
   },
   "file_extension": ".py",
   "mimetype": "text/x-python",
   "name": "python",
   "nbconvert_exporter": "python",
   "pygments_lexer": "ipython3",
   "version": "3.11.9"
  }
 },
 "nbformat": 4,
 "nbformat_minor": 5
}
